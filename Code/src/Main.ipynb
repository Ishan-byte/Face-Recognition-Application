{
 "cells": [
  {
   "cell_type": "markdown",
   "id": "2d63cd81",
   "metadata": {},
   "source": [
    "Environment Setup"
   ]
  },
  {
   "cell_type": "code",
   "execution_count": 31,
   "id": "43bd764c",
   "metadata": {},
   "outputs": [],
   "source": [
    "# Standard Imports\n",
    "import cv2\n",
    "import os\n",
    "import random\n",
    "import numpy as np\n",
    "from matplotlib import pyplot as plt\n",
    "import uuid\n",
    "import tarfile\n",
    "import shutil"
   ]
  },
  {
   "cell_type": "code",
   "execution_count": 32,
   "id": "9714054c",
   "metadata": {},
   "outputs": [],
   "source": [
    "# Tensorflow imports\n",
    "# from tensorflow.keras.models import Model\n",
    "# from tensorflow.keras.layers import Layer, Conv2D, Dense, MaxPooling2D, Input, Flatten\n",
    "import tensorflow as tf"
   ]
  },
  {
   "cell_type": "code",
   "execution_count": 33,
   "id": "87ef5004",
   "metadata": {},
   "outputs": [],
   "source": [
    "# restricting infinite memory consumption from gpus in the local device\n",
    "gpus = tf.config.experimental.list_physical_devices(\"GPU\")\n",
    "for gpu in gpus:\n",
    "    tf.config.experimental.set_memory_growth(gpu, True)"
   ]
  },
  {
   "cell_type": "code",
   "execution_count": 34,
   "id": "a7120ea2",
   "metadata": {},
   "outputs": [],
   "source": [
    "# Setting up paths for the data directories\n",
    "POS_PATH = os.path.join('../data', 'positive')\n",
    "NEG_PATH = os.path.join('../data', 'negative')\n",
    "ANC_PATH = os.path.join('../data', 'anchor')"
   ]
  },
  {
   "cell_type": "code",
   "execution_count": 35,
   "id": "9c87189b",
   "metadata": {},
   "outputs": [],
   "source": [
    "# # Actually making the data directories\n",
    "if os.path.isdir('../data') == True :\n",
    "    pass\n",
    "else:\n",
    "    os.makedirs(POS_PATH)\n",
    "    os.makedirs(NEG_PATH)\n",
    "    os.makedirs(ANC_PATH)"
   ]
  },
  {
   "cell_type": "markdown",
   "id": "d1c12079",
   "metadata": {},
   "source": [
    "Setting up Images in the Directories"
   ]
  },
  {
   "cell_type": "code",
   "execution_count": 36,
   "id": "48c835f3",
   "metadata": {},
   "outputs": [],
   "source": [
    "# # transferring negative files from the lfw dataset into the NEGATIVE data directory\n",
    "\n",
    "if len(os.listdir(NEG_PATH)) > 5000 :\n",
    "    pass\n",
    "else:\n",
    "    file = tarfile.open('../lfw.tgz')\n",
    "    file.extractall('../')\n",
    "    file.close()\n",
    "\n",
    "    for directory in os.listdir('../lfw'):\n",
    "        for file in os.listdir(os.path.join('../lfw', directory)):\n",
    "            EX_PATH = os.path.join('../lfw', directory, file)\n",
    "            NEW_PATH = os.path.join(NEG_PATH, file)\n",
    "            os.replace(EX_PATH, NEW_PATH)\n",
    "    \n",
    "    shutil.rmtree('../lfw')\n",
    "    "
   ]
  },
  {
   "cell_type": "code",
   "execution_count": 30,
   "id": "e3d76526",
   "metadata": {},
   "outputs": [],
   "source": [
    "# For Postive and Anchor Image\n",
    "# creating a Video Capture Object\n",
    "cap = cv2.VideoCapture(0)\n",
    "\n",
    "# Loop for displaying the Image Window\n",
    "while(cap.isOpened()):\n",
    "    ret, frame = cap.read()\n",
    "    if ret == True:\n",
    "        frame = frame[120:120 + 250, 200:200+250, :]\n",
    "        cv2.imshow(\"Image Collection\", frame)\n",
    "    \n",
    "        # For saving Anchor Images\n",
    "        if cv2.waitKey(1) & 0XFF == ord('a'):\n",
    "            imgpath = os.path.join(ANC_PATH, '{}.jpg'.format(uuid.uuid1()))\n",
    "            cv2.imwrite(imgpath, frame)\n",
    "        \n",
    "        # For saving Postive Images\n",
    "        if cv2.waitKey(1) & 0XFF == ord('p'):\n",
    "            imgpath = os.path.join(POS_PATH, '{}.jpg'.format(uuid.uuid1()))\n",
    "            cv2.imwrite(imgpath, frame)\n",
    "        \n",
    "        # For exiting the Image Window\n",
    "        if cv2.waitKey(1) & 0XFF == ord('q'):\n",
    "            break\n",
    "    else:\n",
    "        print(\"Not Opened\")\n",
    "        break\n",
    "\n",
    "# Releases the Video Capture Object\n",
    "cap.release()\n",
    "# Destroys all the opened Image windows\n",
    "cv2.destroyAllWindows()"
   ]
  }
 ],
 "metadata": {
  "kernelspec": {
   "display_name": "Python 3.10.7 ('FaceRecog_env': venv)",
   "language": "python",
   "name": "python3"
  },
  "language_info": {
   "codemirror_mode": {
    "name": "ipython",
    "version": 3
   },
   "file_extension": ".py",
   "mimetype": "text/x-python",
   "name": "python",
   "nbconvert_exporter": "python",
   "pygments_lexer": "ipython3",
   "version": "3.10.7"
  },
  "vscode": {
   "interpreter": {
    "hash": "a3ec82675b8417183357ff478c5bdd3dd7cd6618fd5f1100b10bfc079120e362"
   }
  }
 },
 "nbformat": 4,
 "nbformat_minor": 5
}
